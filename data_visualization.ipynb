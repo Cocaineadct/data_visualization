{
 "cells": [
  {
   "cell_type": "code",
   "execution_count": null,
   "metadata": {},
   "outputs": [],
   "source": [
    "import pandas as pd;\n",
    "# Reading data from a csv file\n",
    "pokemon = pd.read_csv(\"pokemon_data/Pokemon.csv\")\n",
    "pokemon"
   ]
  },
  {
   "cell_type": "code",
   "execution_count": null,
   "metadata": {},
   "outputs": [],
   "source": [
    "pokemon.info()"
   ]
  },
  {
   "cell_type": "code",
   "execution_count": null,
   "metadata": {},
   "outputs": [],
   "source": [
    "pokemon.describe()"
   ]
  },
  {
   "cell_type": "code",
   "execution_count": null,
   "metadata": {},
   "outputs": [],
   "source": [
    "# Grouping and aggregating data\n",
    "# pokemon.groupby('Type 1').mean()\n",
    "\n",
    "\n",
    "# Menampilkan tipe data untuk setiap kolom\n",
    "print(pokemon.dtypes)\n",
    "\n",
    "numeric_column = pokemon.select_dtypes(include='number')\n",
    "av_pokemon = numeric_column.groupby(pokemon['Type 1']).mean()\n",
    "print(av_pokemon)"
   ]
  },
  {
   "cell_type": "code",
   "execution_count": null,
   "metadata": {},
   "outputs": [],
   "source": [
    "numeric_column = pokemon.select_dtypes(include='number')\n",
    "pokemon = numeric_column.groupby(pokemon['Type 1']).agg([\"mean\", \"median\", \"std\"])\n",
    "print(pokemon)"
   ]
  },
  {
   "cell_type": "code",
   "execution_count": null,
   "metadata": {},
   "outputs": [],
   "source": [
    "import seaborn as sns\n",
    "import matplotlib.pyplot as plt\n",
    "\n",
    "# Membuat scatter plot\n",
    "sns.scatterplot(data=pokemon, x=\"HP\", y=\"Attack\", hue=\"Type 1\")\n",
    "\n",
    "# Menampilkan plot\n",
    "plt.show()\n"
   ]
  }
 ],
 "metadata": {
  "kernelspec": {
   "display_name": "Python 3",
   "language": "python",
   "name": "python3"
  },
  "language_info": {
   "codemirror_mode": {
    "name": "ipython",
    "version": 3
   },
   "file_extension": ".py",
   "mimetype": "text/x-python",
   "name": "python",
   "nbconvert_exporter": "python",
   "pygments_lexer": "ipython3",
   "version": "3.11.8"
  }
 },
 "nbformat": 4,
 "nbformat_minor": 2
}
